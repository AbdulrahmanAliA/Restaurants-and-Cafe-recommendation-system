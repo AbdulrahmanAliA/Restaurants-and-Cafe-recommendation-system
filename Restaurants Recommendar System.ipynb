{
 "cells": [
  {
   "cell_type": "code",
   "execution_count": 46,
   "metadata": {},
   "outputs": [],
   "source": [
    "import pandas as pd\n",
    "import numpy as np\n",
    "import matplotlib.pyplot as plt\n",
    "import seaborn as sns\n",
    "from sklearn.feature_extraction.text import TfidfVectorizer\n",
    "from sklearn.metrics.pairwise import linear_kernel\n",
    "from sklearn.feature_extraction.text import CountVectorizer\n",
    "from sklearn.metrics.pairwise import cosine_similarity\n",
    "import missingno as msno\n",
    "\n",
    "\n",
    "%matplotlib inline\n"
   ]
  },
  {
   "cell_type": "code",
   "execution_count": 50,
   "metadata": {},
   "outputs": [],
   "source": [
    "df = pd.read_csv(\"Data/resturantsframe-Clean.csv\")"
   ]
  },
  {
   "cell_type": "code",
   "execution_count": 3,
   "metadata": {},
   "outputs": [
    {
     "name": "stdout",
     "output_type": "stream",
     "text": [
      "<class 'pandas.core.frame.DataFrame'>\n",
      "RangeIndex: 1830 entries, 0 to 1829\n",
      "Data columns (total 13 columns):\n",
      " #   Column             Non-Null Count  Dtype \n",
      "---  ------             --------------  ----- \n",
      " 0   address_line1      1830 non-null   object\n",
      " 1   address_line2      1677 non-null   object\n",
      " 2   city               1830 non-null   object\n",
      " 3   food_type          1809 non-null   object\n",
      " 4   food_type1         1766 non-null   object\n",
      " 5   location           1830 non-null   object\n",
      " 6   number_of_reviews  1830 non-null   object\n",
      " 7   opening_hour       1830 non-null   object\n",
      " 8   out_of             1639 non-null   object\n",
      " 9   phone              1500 non-null   object\n",
      " 10  price_range        476 non-null    object\n",
      " 11  restaurant_name    1830 non-null   object\n",
      " 12  review_score       1830 non-null   object\n",
      "dtypes: object(13)\n",
      "memory usage: 186.0+ KB\n"
     ]
    }
   ],
   "source": [
    "df.info()"
   ]
  },
  {
   "cell_type": "code",
   "execution_count": 4,
   "metadata": {},
   "outputs": [
    {
     "data": {
      "text/plain": [
       "address_line1           0\n",
       "address_line2         153\n",
       "city                    0\n",
       "food_type              21\n",
       "food_type1             64\n",
       "location                0\n",
       "number_of_reviews       0\n",
       "opening_hour            0\n",
       "out_of                191\n",
       "phone                 330\n",
       "price_range          1354\n",
       "restaurant_name         0\n",
       "review_score            0\n",
       "dtype: int64"
      ]
     },
     "execution_count": 4,
     "metadata": {},
     "output_type": "execute_result"
    }
   ],
   "source": [
    "df.isnull().sum()"
   ]
  },
  {
   "cell_type": "code",
   "execution_count": 51,
   "metadata": {},
   "outputs": [],
   "source": [
    "df.drop(['phone','price_range'], axis= 1,inplace=True)"
   ]
  },
  {
   "cell_type": "code",
   "execution_count": 6,
   "metadata": {},
   "outputs": [
    {
     "data": {
      "text/html": [
       "<div>\n",
       "<style scoped>\n",
       "    .dataframe tbody tr th:only-of-type {\n",
       "        vertical-align: middle;\n",
       "    }\n",
       "\n",
       "    .dataframe tbody tr th {\n",
       "        vertical-align: top;\n",
       "    }\n",
       "\n",
       "    .dataframe thead th {\n",
       "        text-align: right;\n",
       "    }\n",
       "</style>\n",
       "<table border=\"1\" class=\"dataframe\">\n",
       "  <thead>\n",
       "    <tr style=\"text-align: right;\">\n",
       "      <th></th>\n",
       "      <th>address_line1</th>\n",
       "      <th>address_line2</th>\n",
       "      <th>city</th>\n",
       "      <th>food_type</th>\n",
       "      <th>food_type1</th>\n",
       "      <th>location</th>\n",
       "      <th>number_of_reviews</th>\n",
       "      <th>opening_hour</th>\n",
       "      <th>out_of</th>\n",
       "      <th>restaurant_name</th>\n",
       "      <th>review_score</th>\n",
       "    </tr>\n",
       "  </thead>\n",
       "  <tbody>\n",
       "    <tr>\n",
       "      <th>1337</th>\n",
       "      <td>Sulimania</td>\n",
       "      <td>Abdullah Hamdan Street</td>\n",
       "      <td>Riyadh</td>\n",
       "      <td>, Fast Food, Middle Eastern, Lebanese</td>\n",
       "      <td>Fast Food</td>\n",
       "      <td>Sulimania, Abdullah Hamdan Street, Next to KHA...</td>\n",
       "      <td>62</td>\n",
       "      <td>+ Add hours</td>\n",
       "      <td>9 of 47 Lebanese in Riyadh</td>\n",
       "      <td>Bayt Al-Shawirma</td>\n",
       "      <td>4.0</td>\n",
       "    </tr>\n",
       "    <tr>\n",
       "      <th>825</th>\n",
       "      <td>Al Amir Mohammad Bin Abdul Aziz Street</td>\n",
       "      <td>Jeddah 23322 Saudi Arabia</td>\n",
       "      <td>Jeddah</td>\n",
       "      <td>Turkish</td>\n",
       "      <td>Turkish</td>\n",
       "      <td>Al Amir Mohammad Bin Abdul Aziz Street, Jeddah...</td>\n",
       "      <td>10</td>\n",
       "      <td>+ Add hours</td>\n",
       "      <td>11 of 29 Turkish in Jeddah</td>\n",
       "      <td>Nfess</td>\n",
       "      <td>4.5</td>\n",
       "    </tr>\n",
       "    <tr>\n",
       "      <th>759</th>\n",
       "      <td>Al Kurnaysh Rd Al Hamra District</td>\n",
       "      <td>Park Hyatt Hotel</td>\n",
       "      <td>Jeddah</td>\n",
       "      <td>, Lebanese, Seafood, Mediterranean</td>\n",
       "      <td>Lebanese</td>\n",
       "      <td>Al Kurnaysh Rd Al Hamra District, Park Hyatt H...</td>\n",
       "      <td>24</td>\n",
       "      <td>Open Now:6:00 AM - 10:00 PM</td>\n",
       "      <td>15 of 46 Lebanese in Jeddah</td>\n",
       "      <td>Nafoura</td>\n",
       "      <td>4.0</td>\n",
       "    </tr>\n",
       "    <tr>\n",
       "      <th>251</th>\n",
       "      <td>Alotaim Mall</td>\n",
       "      <td>Al Ahsa Saudi Arabia</td>\n",
       "      <td>Eastern_Province</td>\n",
       "      <td>, Middle Eastern</td>\n",
       "      <td>Middle Eastern</td>\n",
       "      <td>Alotaim Mall, Al Ahsa Saudi Arabia</td>\n",
       "      <td>8</td>\n",
       "      <td>+ Add hours</td>\n",
       "      <td>6 of 6 Middle Eastern in Al Ahsa</td>\n",
       "      <td>Restaurant Azal</td>\n",
       "      <td>4.0</td>\n",
       "    </tr>\n",
       "    <tr>\n",
       "      <th>1314</th>\n",
       "      <td>King Saud Rd Riyadh Marriott Hotel  Al Wazarat...</td>\n",
       "      <td>Riyadh 11464 Saudi Arabia</td>\n",
       "      <td>Riyadh</td>\n",
       "      <td>, American, Seafood, British</td>\n",
       "      <td>American</td>\n",
       "      <td>King Saud Rd Riyadh Marriott Hotel  Al Wazarat...</td>\n",
       "      <td>102</td>\n",
       "      <td>Closed Now:See all hours</td>\n",
       "      <td>5 of 100 American in Riyadh</td>\n",
       "      <td>Terrace Grill</td>\n",
       "      <td>4.5</td>\n",
       "    </tr>\n",
       "    <tr>\n",
       "      <th>426</th>\n",
       "      <td>Riyadh road</td>\n",
       "      <td>Al Ahsa Saudi Arabia</td>\n",
       "      <td>Eastern_Province</td>\n",
       "      <td>Cafe</td>\n",
       "      <td>Cafe</td>\n",
       "      <td>Riyadh road, Al Ahsa Saudi Arabia</td>\n",
       "      <td>2</td>\n",
       "      <td>+ Add hours</td>\n",
       "      <td>3 of 3 Cafe in Al Ahsa</td>\n",
       "      <td>Dewanyat almoltaqa</td>\n",
       "      <td>4.5</td>\n",
       "    </tr>\n",
       "    <tr>\n",
       "      <th>1335</th>\n",
       "      <td>Olaya- Tahlya Street</td>\n",
       "      <td>Riyadh Saudi Arabia</td>\n",
       "      <td>Riyadh</td>\n",
       "      <td>, Japanese, Sushi, Asian</td>\n",
       "      <td>Japanese</td>\n",
       "      <td>Olaya- Tahlya Street, Riyadh Saudi Arabia</td>\n",
       "      <td>58</td>\n",
       "      <td>+ Add hours</td>\n",
       "      <td>11 of 27 Japanese in Riyadh</td>\n",
       "      <td>Furusato</td>\n",
       "      <td>4.0</td>\n",
       "    </tr>\n",
       "    <tr>\n",
       "      <th>540</th>\n",
       "      <td>2 street Khobar north Near Al Shifa Khobar Pol...</td>\n",
       "      <td>Al Khobar 31942 Saudi Arabia</td>\n",
       "      <td>Eastern_Province</td>\n",
       "      <td>, Chinese, Indian, Middle Eastern</td>\n",
       "      <td>Chinese</td>\n",
       "      <td>2 street Khobar north Near Al Shifa Khobar Pol...</td>\n",
       "      <td>2</td>\n",
       "      <td>Closed Now:See all hours</td>\n",
       "      <td>18 of 18 Chinese in Al Khobar</td>\n",
       "      <td>Mehfil Restaurant</td>\n",
       "      <td>1.0</td>\n",
       "    </tr>\n",
       "    <tr>\n",
       "      <th>58</th>\n",
       "      <td>27th street intersection with Prince Saad Street</td>\n",
       "      <td>Al Khobar Saudi Arabia</td>\n",
       "      <td>Eastern_Province</td>\n",
       "      <td>, Italian, European, Vegetarian Friendly</td>\n",
       "      <td>Italian</td>\n",
       "      <td>27th street intersection with Prince Saad Stre...</td>\n",
       "      <td>54</td>\n",
       "      <td>+ Add hours</td>\n",
       "      <td>6 of 31 Italian in Al Khobar</td>\n",
       "      <td>Oliveto</td>\n",
       "      <td>4.5</td>\n",
       "    </tr>\n",
       "    <tr>\n",
       "      <th>671</th>\n",
       "      <td>Prince Saud Al Faisal St.</td>\n",
       "      <td>Al Rawdah Star Center</td>\n",
       "      <td>Jeddah</td>\n",
       "      <td>, Asian, Korean, Vegetarian Friendly</td>\n",
       "      <td>Asian</td>\n",
       "      <td>Prince Saud Al Faisal St., Al Rawdah Star Cent...</td>\n",
       "      <td>50</td>\n",
       "      <td>Open Now:12:00 PM - 12:00 AM</td>\n",
       "      <td>11 of 65 Asian in Jeddah</td>\n",
       "      <td>Sura Korean Fine Dining</td>\n",
       "      <td>4.5</td>\n",
       "    </tr>\n",
       "    <tr>\n",
       "      <th>435</th>\n",
       "      <td>Mall of Dhahran Blvd Mall of Arabia</td>\n",
       "      <td>Gate 10</td>\n",
       "      <td>Eastern_Province</td>\n",
       "      <td>Restaurants</td>\n",
       "      <td>Restaurants</td>\n",
       "      <td>Mall of Dhahran Blvd Mall of Arabia, Gate 10, ...</td>\n",
       "      <td>6</td>\n",
       "      <td>Closed Now:See all hours</td>\n",
       "      <td>36 of 47 Restaurants in Dhahran</td>\n",
       "      <td>Nando's</td>\n",
       "      <td>3.5</td>\n",
       "    </tr>\n",
       "    <tr>\n",
       "      <th>315</th>\n",
       "      <td>Dhahran Mall Gate 12</td>\n",
       "      <td>Al Khobar Saudi Arabia</td>\n",
       "      <td>Eastern_Province</td>\n",
       "      <td>Italian, Pizza</td>\n",
       "      <td>Pizza</td>\n",
       "      <td>Dhahran Mall Gate 12, Al Khobar Saudi Arabia</td>\n",
       "      <td>8</td>\n",
       "      <td>+ Add hours</td>\n",
       "      <td>22 of 31 Italian in Al Khobar</td>\n",
       "      <td>C House Milano Cafe &amp; Restaurant</td>\n",
       "      <td>3.5</td>\n",
       "    </tr>\n",
       "    <tr>\n",
       "      <th>711</th>\n",
       "      <td>Falasteen Street</td>\n",
       "      <td>Jeddah Saudi Arabia</td>\n",
       "      <td>Jeddah</td>\n",
       "      <td>, European, Halal, Vegetarian Friendly</td>\n",
       "      <td>European</td>\n",
       "      <td>Falasteen Street, Jeddah Saudi Arabia</td>\n",
       "      <td>48</td>\n",
       "      <td>Open Now:See all hours</td>\n",
       "      <td>11 of 36 European in Jeddah</td>\n",
       "      <td>Zodiac</td>\n",
       "      <td>4.0</td>\n",
       "    </tr>\n",
       "    <tr>\n",
       "      <th>936</th>\n",
       "      <td>Jeddah Saudi Arabia</td>\n",
       "      <td>NaN</td>\n",
       "      <td>Jeddah</td>\n",
       "      <td>, Pakistani, Middle Eastern</td>\n",
       "      <td>Pakistani</td>\n",
       "      <td>Jeddah Saudi Arabia</td>\n",
       "      <td>14</td>\n",
       "      <td>+ Add hours</td>\n",
       "      <td>52 of 82 Middle Eastern in Jeddah</td>\n",
       "      <td>Makkah Hotel</td>\n",
       "      <td>4.0</td>\n",
       "    </tr>\n",
       "    <tr>\n",
       "      <th>595</th>\n",
       "      <td>Prince nasser Sreet A Street</td>\n",
       "      <td>Al Khobar 34217 Saudi Arabia</td>\n",
       "      <td>Eastern_Province</td>\n",
       "      <td>Asian</td>\n",
       "      <td>NaN</td>\n",
       "      <td>Prince nasser Sreet A Street, Al Khobar 34217 ...</td>\n",
       "      <td>0</td>\n",
       "      <td>+ Add hours</td>\n",
       "      <td>NaN</td>\n",
       "      <td>Boilingpot</td>\n",
       "      <td>0</td>\n",
       "    </tr>\n",
       "    <tr>\n",
       "      <th>981</th>\n",
       "      <td>7615 King Fahd Road Al Baghdadiyah Ash Sharqiy...</td>\n",
       "      <td>Jeddah 22241 Saudi Arabia</td>\n",
       "      <td>Jeddah</td>\n",
       "      <td>, Asian</td>\n",
       "      <td>Asian</td>\n",
       "      <td>7615 King Fahd Road Al Baghdadiyah Ash Sharqiy...</td>\n",
       "      <td>15</td>\n",
       "      <td>Open Now:7:30 AM - 12:00 AM</td>\n",
       "      <td>51 of 65 Asian in Jeddah</td>\n",
       "      <td>Aryaas</td>\n",
       "      <td>4.0</td>\n",
       "    </tr>\n",
       "    <tr>\n",
       "      <th>1268</th>\n",
       "      <td>Levels Mall</td>\n",
       "      <td>Level 1</td>\n",
       "      <td>Riyadh</td>\n",
       "      <td>, Indian, Asian, Vegetarian Friendly</td>\n",
       "      <td>Indian</td>\n",
       "      <td>Levels Mall, Level 1, Exit 5 Off Northern Ring...</td>\n",
       "      <td>278</td>\n",
       "      <td>Closed Now:See all hours</td>\n",
       "      <td>1 of 69 Indian in Riyadh</td>\n",
       "      <td>Zafran Indian Bistro - Levels Mall</td>\n",
       "      <td>5.0</td>\n",
       "    </tr>\n",
       "    <tr>\n",
       "      <th>744</th>\n",
       "      <td>Tahleah</td>\n",
       "      <td>Jeddah Saudi Arabia</td>\n",
       "      <td>Jeddah</td>\n",
       "      <td>, Lebanese, Mediterranean, Middle Eastern</td>\n",
       "      <td>Lebanese</td>\n",
       "      <td>Tahleah, Jeddah Saudi Arabia</td>\n",
       "      <td>39</td>\n",
       "      <td>+ Add hours</td>\n",
       "      <td>13 of 46 Lebanese in Jeddah</td>\n",
       "      <td>Labeeb</td>\n",
       "      <td>4.0</td>\n",
       "    </tr>\n",
       "    <tr>\n",
       "      <th>317</th>\n",
       "      <td>Al-Doughaither Island</td>\n",
       "      <td>Al Khobar Saudi Arabia</td>\n",
       "      <td>Eastern_Province</td>\n",
       "      <td>, Italian</td>\n",
       "      <td>Italian</td>\n",
       "      <td>Al-Doughaither Island, Al Khobar Saudi Arabia</td>\n",
       "      <td>6</td>\n",
       "      <td>+ Add hours</td>\n",
       "      <td>23 of 31 Italian in Al Khobar</td>\n",
       "      <td>Casa sicili</td>\n",
       "      <td>4.0</td>\n",
       "    </tr>\n",
       "    <tr>\n",
       "      <th>647</th>\n",
       "      <td>Prince Abullah St Al Rawdah Dist</td>\n",
       "      <td>Jeddah Saudi Arabia</td>\n",
       "      <td>Jeddah</td>\n",
       "      <td>, Chinese, Asian, Vegetarian Friendly</td>\n",
       "      <td>Chinese</td>\n",
       "      <td>Prince Abullah St Al Rawdah Dist, Jeddah Saudi...</td>\n",
       "      <td>149</td>\n",
       "      <td>Open Now:1:00 PM - 12:00 AM</td>\n",
       "      <td>1 of 29 Chinese in Jeddah</td>\n",
       "      <td>Toki</td>\n",
       "      <td>4.5</td>\n",
       "    </tr>\n",
       "  </tbody>\n",
       "</table>\n",
       "</div>"
      ],
      "text/plain": [
       "                                          address_line1  \\\n",
       "1337                                          Sulimania   \n",
       "825              Al Amir Mohammad Bin Abdul Aziz Street   \n",
       "759                    Al Kurnaysh Rd Al Hamra District   \n",
       "251                                        Alotaim Mall   \n",
       "1314  King Saud Rd Riyadh Marriott Hotel  Al Wazarat...   \n",
       "426                                         Riyadh road   \n",
       "1335                               Olaya- Tahlya Street   \n",
       "540   2 street Khobar north Near Al Shifa Khobar Pol...   \n",
       "58     27th street intersection with Prince Saad Street   \n",
       "671                           Prince Saud Al Faisal St.   \n",
       "435                 Mall of Dhahran Blvd Mall of Arabia   \n",
       "315                                Dhahran Mall Gate 12   \n",
       "711                                    Falasteen Street   \n",
       "936                                 Jeddah Saudi Arabia   \n",
       "595                        Prince nasser Sreet A Street   \n",
       "981   7615 King Fahd Road Al Baghdadiyah Ash Sharqiy...   \n",
       "1268                                        Levels Mall   \n",
       "744                                             Tahleah   \n",
       "317                               Al-Doughaither Island   \n",
       "647                    Prince Abullah St Al Rawdah Dist   \n",
       "\n",
       "                      address_line2              city  \\\n",
       "1337         Abdullah Hamdan Street            Riyadh   \n",
       "825       Jeddah 23322 Saudi Arabia            Jeddah   \n",
       "759                Park Hyatt Hotel            Jeddah   \n",
       "251            Al Ahsa Saudi Arabia  Eastern_Province   \n",
       "1314      Riyadh 11464 Saudi Arabia            Riyadh   \n",
       "426            Al Ahsa Saudi Arabia  Eastern_Province   \n",
       "1335            Riyadh Saudi Arabia            Riyadh   \n",
       "540    Al Khobar 31942 Saudi Arabia  Eastern_Province   \n",
       "58           Al Khobar Saudi Arabia  Eastern_Province   \n",
       "671           Al Rawdah Star Center            Jeddah   \n",
       "435                         Gate 10  Eastern_Province   \n",
       "315          Al Khobar Saudi Arabia  Eastern_Province   \n",
       "711             Jeddah Saudi Arabia            Jeddah   \n",
       "936                             NaN            Jeddah   \n",
       "595    Al Khobar 34217 Saudi Arabia  Eastern_Province   \n",
       "981       Jeddah 22241 Saudi Arabia            Jeddah   \n",
       "1268                        Level 1            Riyadh   \n",
       "744             Jeddah Saudi Arabia            Jeddah   \n",
       "317          Al Khobar Saudi Arabia  Eastern_Province   \n",
       "647             Jeddah Saudi Arabia            Jeddah   \n",
       "\n",
       "                                        food_type       food_type1  \\\n",
       "1337        , Fast Food, Middle Eastern, Lebanese        Fast Food   \n",
       "825                                       Turkish          Turkish   \n",
       "759            , Lebanese, Seafood, Mediterranean         Lebanese   \n",
       "251                              , Middle Eastern   Middle Eastern   \n",
       "1314                 , American, Seafood, British         American   \n",
       "426                                          Cafe             Cafe   \n",
       "1335                     , Japanese, Sushi, Asian         Japanese   \n",
       "540             , Chinese, Indian, Middle Eastern          Chinese   \n",
       "58       , Italian, European, Vegetarian Friendly          Italian   \n",
       "671          , Asian, Korean, Vegetarian Friendly            Asian   \n",
       "435                                   Restaurants      Restaurants   \n",
       "315                                Italian, Pizza            Pizza   \n",
       "711        , European, Halal, Vegetarian Friendly         European   \n",
       "936                   , Pakistani, Middle Eastern        Pakistani   \n",
       "595                                         Asian              NaN   \n",
       "981                                       , Asian            Asian   \n",
       "1268         , Indian, Asian, Vegetarian Friendly           Indian   \n",
       "744     , Lebanese, Mediterranean, Middle Eastern         Lebanese   \n",
       "317                                     , Italian          Italian   \n",
       "647         , Chinese, Asian, Vegetarian Friendly          Chinese   \n",
       "\n",
       "                                               location number_of_reviews  \\\n",
       "1337  Sulimania, Abdullah Hamdan Street, Next to KHA...                62   \n",
       "825   Al Amir Mohammad Bin Abdul Aziz Street, Jeddah...                10   \n",
       "759   Al Kurnaysh Rd Al Hamra District, Park Hyatt H...                24   \n",
       "251                  Alotaim Mall, Al Ahsa Saudi Arabia                 8   \n",
       "1314  King Saud Rd Riyadh Marriott Hotel  Al Wazarat...               102   \n",
       "426                   Riyadh road, Al Ahsa Saudi Arabia                 2   \n",
       "1335          Olaya- Tahlya Street, Riyadh Saudi Arabia                58   \n",
       "540   2 street Khobar north Near Al Shifa Khobar Pol...                 2   \n",
       "58    27th street intersection with Prince Saad Stre...                54   \n",
       "671   Prince Saud Al Faisal St., Al Rawdah Star Cent...                50   \n",
       "435   Mall of Dhahran Blvd Mall of Arabia, Gate 10, ...                 6   \n",
       "315        Dhahran Mall Gate 12, Al Khobar Saudi Arabia                 8   \n",
       "711               Falasteen Street, Jeddah Saudi Arabia                48   \n",
       "936                                 Jeddah Saudi Arabia                14   \n",
       "595   Prince nasser Sreet A Street, Al Khobar 34217 ...                 0   \n",
       "981   7615 King Fahd Road Al Baghdadiyah Ash Sharqiy...                15   \n",
       "1268  Levels Mall, Level 1, Exit 5 Off Northern Ring...               278   \n",
       "744                        Tahleah, Jeddah Saudi Arabia                39   \n",
       "317       Al-Doughaither Island, Al Khobar Saudi Arabia                 6   \n",
       "647   Prince Abullah St Al Rawdah Dist, Jeddah Saudi...               149   \n",
       "\n",
       "                      opening_hour                             out_of  \\\n",
       "1337                   + Add hours         9 of 47 Lebanese in Riyadh   \n",
       "825                    + Add hours         11 of 29 Turkish in Jeddah   \n",
       "759    Open Now:6:00 AM - 10:00 PM        15 of 46 Lebanese in Jeddah   \n",
       "251                    + Add hours   6 of 6 Middle Eastern in Al Ahsa   \n",
       "1314      Closed Now:See all hours        5 of 100 American in Riyadh   \n",
       "426                    + Add hours             3 of 3 Cafe in Al Ahsa   \n",
       "1335                   + Add hours        11 of 27 Japanese in Riyadh   \n",
       "540       Closed Now:See all hours      18 of 18 Chinese in Al Khobar   \n",
       "58                     + Add hours       6 of 31 Italian in Al Khobar   \n",
       "671   Open Now:12:00 PM - 12:00 AM           11 of 65 Asian in Jeddah   \n",
       "435       Closed Now:See all hours    36 of 47 Restaurants in Dhahran   \n",
       "315                    + Add hours      22 of 31 Italian in Al Khobar   \n",
       "711         Open Now:See all hours        11 of 36 European in Jeddah   \n",
       "936                    + Add hours  52 of 82 Middle Eastern in Jeddah   \n",
       "595                    + Add hours                                NaN   \n",
       "981    Open Now:7:30 AM - 12:00 AM           51 of 65 Asian in Jeddah   \n",
       "1268      Closed Now:See all hours           1 of 69 Indian in Riyadh   \n",
       "744                    + Add hours        13 of 46 Lebanese in Jeddah   \n",
       "317                    + Add hours      23 of 31 Italian in Al Khobar   \n",
       "647    Open Now:1:00 PM - 12:00 AM          1 of 29 Chinese in Jeddah   \n",
       "\n",
       "                          restaurant_name review_score  \n",
       "1337                     Bayt Al-Shawirma         4.0   \n",
       "825                                 Nfess         4.5   \n",
       "759                               Nafoura         4.0   \n",
       "251                       Restaurant Azal         4.0   \n",
       "1314                        Terrace Grill         4.5   \n",
       "426                    Dewanyat almoltaqa         4.5   \n",
       "1335                             Furusato         4.0   \n",
       "540                     Mehfil Restaurant         1.0   \n",
       "58                                Oliveto         4.5   \n",
       "671               Sura Korean Fine Dining         4.5   \n",
       "435                               Nando's         3.5   \n",
       "315      C House Milano Cafe & Restaurant         3.5   \n",
       "711                                Zodiac         4.0   \n",
       "936                          Makkah Hotel         4.0   \n",
       "595                            Boilingpot            0  \n",
       "981                                Aryaas         4.0   \n",
       "1268   Zafran Indian Bistro - Levels Mall         5.0   \n",
       "744                                Labeeb         4.0   \n",
       "317                           Casa sicili         4.0   \n",
       "647                                  Toki         4.5   "
      ]
     },
     "execution_count": 6,
     "metadata": {},
     "output_type": "execute_result"
    }
   ],
   "source": [
    "df.sample(20)"
   ]
  },
  {
   "cell_type": "code",
   "execution_count": 52,
   "metadata": {},
   "outputs": [
    {
     "data": {
      "text/plain": [
       "<AxesSubplot:>"
      ]
     },
     "execution_count": 52,
     "metadata": {},
     "output_type": "execute_result"
    },
    {
     "data": {
      "image/png": "[encoded data removed]",
      "text/plain": [
       "<Figure size 1800x720 with 2 Axes>"
      ]
     },
     "metadata": {
      "needs_background": "light"
     },
     "output_type": "display_data"
    }
   ],
   "source": [
    "msno.matrix(df, labels=True, filter=\"bottom\", sort=\"ascending\", n=35)\n"
   ]
  },
  {
   "cell_type": "code",
   "execution_count": 53,
   "metadata": {},
   "outputs": [
    {
     "data": {
      "text/plain": [
       "Restaurants                                          135\n",
       "                                                      73\n",
       "  , American                                          31\n",
       ", Cafe                                                29\n",
       "Cafe                                                  27\n",
       "                                                    ... \n",
       ", Seafood, Mediterranean, Halal                        1\n",
       "  , International, Halal                               1\n",
       ", Steakhouse, Mediterranean, Barbecue                  1\n",
       "  , Lebanese, Middle Eastern, Vegetarian Friendly      1\n",
       ", Italian, Cafe                                        1\n",
       "Name: food_type, Length: 842, dtype: int64"
      ]
     },
     "execution_count": 53,
     "metadata": {},
     "output_type": "execute_result"
    }
   ],
   "source": [
    "df.food_type.value_counts()\n"
   ]
  },
  {
   "cell_type": "code",
   "execution_count": 54,
   "metadata": {},
   "outputs": [],
   "source": [
    "df['food_type'] = df['food_type'].str.strip()\n",
    "df['restaurant_name'] = df['restaurant_name'].str.strip()\n",
    "df.loc[df['food_type'] == '','food_type'] = np.nan"
   ]
  },
  {
   "cell_type": "code",
   "execution_count": 55,
   "metadata": {},
   "outputs": [
    {
     "data": {
      "text/plain": [
       "Restaurants                                          135\n",
       ", Cafe                                                45\n",
       ", American                                            41\n",
       "Cafe                                                  27\n",
       ", Indian, Asian, Vegetarian Friendly                  27\n",
       "                                                    ... \n",
       ", American, Central American, Vegetarian Friendly      1\n",
       ", Mediterranean, European, International               1\n",
       ", Fast Food, Grill, Middle Eastern                     1\n",
       ", Seafood, Vegetarian Friendly, Halal                  1\n",
       ", Healthy                                              1\n",
       "Name: food_type, Length: 753, dtype: int64"
      ]
     },
     "execution_count": 55,
     "metadata": {},
     "output_type": "execute_result"
    }
   ],
   "source": [
    "df.food_type.value_counts()\n"
   ]
  },
  {
   "cell_type": "code",
   "execution_count": 56,
   "metadata": {},
   "outputs": [],
   "source": [
    "df = df[~ df.food_type.str.startswith('Restaurants',na=False)]\n",
    "df = df[~ df.food_type1.str.startswith('Restaurants',na=False)]\n",
    "df.loc[df.food_type.isnull() & df.restaurant_name.str.contains('offee')| df.restaurant_name.str.contains('Caf')|df.restaurant_name.str.contains('Cafe') | df.restaurant_name.str.contains('cafe')|\n",
    "df.restaurant_name.str.contains('Tea'), 'food_type'] = \"Cafe\"\n",
    "df.loc[df.restaurant_name.str.contains('offee')| df.restaurant_name.str.contains('Caf')|df.restaurant_name.str.contains('Cafe') | df.restaurant_name.str.contains('cafe')|\n",
    "df.restaurant_name.str.contains('Tea'), 'food_type1'] = \"Cafe\"\n",
    "\n",
    "df.loc[df.food_type.isnull() & df.restaurant_name.str.contains('hawarma')|df.restaurant_name.str.contains('hawarma')|df.restaurant_name.str.contains('hawerma'),'food_type'] = 'Shawarma'\n",
    "df.loc[df.restaurant_name.str.contains('hawarma')|df.restaurant_name.str.contains('hawarma')|df.restaurant_name.str.contains('hawerma'),'food_type1'] = 'Arabic'\n",
    "df.loc[df.restaurant_name.str.contains('akery')| df.restaurant_name.str.contains('Bagel')|df.restaurant_name.str.contains('Pastry'), 'food_type1'] = 'Bakery'"
   ]
  },
  {
   "cell_type": "code",
   "execution_count": 57,
   "metadata": {},
   "outputs": [
    {
     "data": {
      "text/plain": [
       "90"
      ]
     },
     "execution_count": 57,
     "metadata": {},
     "output_type": "execute_result"
    }
   ],
   "source": [
    "df.food_type1.nunique()"
   ]
  },
  {
   "cell_type": "code",
   "execution_count": 58,
   "metadata": {},
   "outputs": [],
   "source": [
    "df['food_type1'] = df['food_type1'].str.strip()\n"
   ]
  },
  {
   "cell_type": "code",
   "execution_count": 59,
   "metadata": {},
   "outputs": [
    {
     "data": {
      "text/plain": [
       "70"
      ]
     },
     "execution_count": 59,
     "metadata": {},
     "output_type": "execute_result"
    }
   ],
   "source": [
    "df.food_type1.nunique()"
   ]
  },
  {
   "cell_type": "code",
   "execution_count": 60,
   "metadata": {},
   "outputs": [
    {
     "data": {
      "text/plain": [
       "Cafe                195\n",
       "American            135\n",
       "Italian             128\n",
       "Indian              124\n",
       "Chinese              82\n",
       "                   ... \n",
       "Swedish               1\n",
       "Central American      1\n",
       "Caucasian             1\n",
       "Eastern European      1\n",
       "Persian               1\n",
       "Name: food_type1, Length: 70, dtype: int64"
      ]
     },
     "execution_count": 60,
     "metadata": {},
     "output_type": "execute_result"
    }
   ],
   "source": [
    "df.food_type1.value_counts()"
   ]
  },
  {
   "cell_type": "code",
   "execution_count": 61,
   "metadata": {},
   "outputs": [],
   "source": [
    "df.dropna(subset =['food_type'],inplace=True)\n"
   ]
  },
  {
   "cell_type": "code",
   "execution_count": 16,
   "metadata": {},
   "outputs": [
    {
     "data": {
      "text/plain": [
       "address_line1          0\n",
       "address_line2        116\n",
       "city                   0\n",
       "food_type              0\n",
       "food_type1            48\n",
       "location               0\n",
       "number_of_reviews      0\n",
       "opening_hour           0\n",
       "out_of               189\n",
       "restaurant_name        0\n",
       "review_score           0\n",
       "dtype: int64"
      ]
     },
     "execution_count": 16,
     "metadata": {},
     "output_type": "execute_result"
    }
   ],
   "source": [
    "df.isnull().sum()"
   ]
  },
  {
   "cell_type": "code",
   "execution_count": 62,
   "metadata": {},
   "outputs": [],
   "source": [
    "df.food_type1 = np.where(df.food_type1.isnull(), df.food_type, df.food_type1)\n",
    "df.address_line2 = np.where(df.address_line2.isnull(), df.address_line1, df.address_line2)"
   ]
  },
  {
   "cell_type": "code",
   "execution_count": 63,
   "metadata": {},
   "outputs": [],
   "source": [
    "df.loc[df.food_type1.str.contains('Middle')|df.food_type1.str.contains('Lebanese')|df.food_type1.str.contains('Egyptian')|df.food_type1.str.contains('Moroccan'), 'food_type1'] = 'Arabic'\n",
    "\n",
    "df.loc[df.food_type1.str.contains('Asian')| df.food_type1.str.contains('Korean')|df.food_type1.str.contains('Thai')|df.food_type1.str.contains('Filipino')|df.food_type1.str.contains('Uzbek')\n",
    "       |df.food_type1.str.contains('Afghani')|df.food_type1.str.contains('Armenian')|df.food_type1.str.contains('Indonesian')|df.food_type1.str.contains('Pakistani')|\n",
    "       df.food_type1.str.contains('Sushi')|df.food_type1.str.contains('Persian')|df.food_type1.str.contains('Japanese')|df.food_type1.str.contains('Chinese'), 'food_type1'] = 'Asian'\n",
    "\n",
    "\n",
    "\n",
    "df.loc[df.food_type1.str.contains('Vegetarian')|df.food_type1.str.contains('Vegan'), 'food_type1'] = 'Healthy'\n",
    "\n",
    "df.loc[df.food_type1.str.contains('American')|df.food_type1.str.contains('Hawaiian')|df.food_type1.str.contains('Canadian')|df.food_type1.str.contains('Peruvian')\n",
    "       |df.food_type1.str.contains('Peruvian')|df.food_type1.str.contains('Caribbean')|df.food_type1.str.contains('Latin')|df.food_type1.str.contains('Brazilian')\n",
    "       |df.food_type1.str.contains('Mexican'), 'food_type1'] = 'American'\n",
    "\n",
    "df.loc[df.food_type1.str.contains('Fast')|df.food_type1.str.contains('Street'), 'food_type1'] = 'Fast Food'\n",
    "\n",
    "df.loc[df.food_type1.str.contains('European')|df.food_type1.str.contains('Belgian')|df.food_type1.str.contains('Portuguese')|df.food_type1.str.contains('German')\n",
    "       |df.food_type1.str.contains('Dutch')|df.food_type1.str.contains('Swedish')|df.food_type1.str.contains('French')|df.food_type1.str.contains('Greek')|df.food_type1.str.contains('Turkish'), 'food_type1'] = 'European'\n",
    "\n",
    "df.loc[df.food_type1.str.contains('Grill')|df.food_type1.str.contains('Steakhouse')|df.food_type1.str.contains('Barbecue'), 'food_type1'] = 'BBQ'\n",
    "\n",
    "df.loc[ df.food_type1.str.contains('Halal')|df.food_type1.str.contains('Contemporary')|df.food_type1.str.contains('Deli')|df.food_type1.str.contains('Fusion')\n",
    "       |df.food_type1.str.contains('Bar')|df.food_type1.str.contains('Soups')|df.food_type1.str.contains('Caucasian')|df.food_type1.str.contains('Diner')|df.food_type1.str.contains('African') , 'food_type1'] = 'International'"
   ]
  },
  {
   "cell_type": "code",
   "execution_count": 19,
   "metadata": {},
   "outputs": [
    {
     "data": {
      "text/plain": [
       "15"
      ]
     },
     "execution_count": 19,
     "metadata": {},
     "output_type": "execute_result"
    }
   ],
   "source": [
    "df.food_type1.nunique()"
   ]
  },
  {
   "cell_type": "code",
   "execution_count": 20,
   "metadata": {},
   "outputs": [
    {
     "data": {
      "text/plain": [
       "Asian            221\n",
       "Arabic           216\n",
       "Cafe             201\n",
       "American         177\n",
       "Italian          131\n",
       "Indian           126\n",
       "European         113\n",
       "International     91\n",
       "Seafood           79\n",
       "BBQ               67\n",
       "Mediterranean     58\n",
       "Fast Food         50\n",
       "Pizza             32\n",
       "Bakery            23\n",
       "Healthy           15\n",
       "Name: food_type1, dtype: int64"
      ]
     },
     "execution_count": 20,
     "metadata": {},
     "output_type": "execute_result"
    }
   ],
   "source": [
    "df.food_type1.value_counts().head(52)"
   ]
  },
  {
   "cell_type": "code",
   "execution_count": 21,
   "metadata": {},
   "outputs": [
    {
     "data": {
      "text/plain": [
       "address_line1          0\n",
       "address_line2          0\n",
       "city                   0\n",
       "food_type              0\n",
       "food_type1             0\n",
       "location               0\n",
       "number_of_reviews      0\n",
       "opening_hour           0\n",
       "out_of               189\n",
       "restaurant_name        0\n",
       "review_score           0\n",
       "dtype: int64"
      ]
     },
     "execution_count": 21,
     "metadata": {},
     "output_type": "execute_result"
    }
   ],
   "source": [
    "df.isnull().sum()"
   ]
  },
  {
   "cell_type": "code",
   "execution_count": 64,
   "metadata": {},
   "outputs": [],
   "source": [
    "df.out_of = df.out_of.fillna('dont have')"
   ]
  },
  {
   "cell_type": "code",
   "execution_count": 65,
   "metadata": {},
   "outputs": [
    {
     "name": "stdout",
     "output_type": "stream",
     "text": [
      "<class 'pandas.core.frame.DataFrame'>\n",
      "Int64Index: 1600 entries, 0 to 1829\n",
      "Data columns (total 11 columns):\n",
      " #   Column             Non-Null Count  Dtype \n",
      "---  ------             --------------  ----- \n",
      " 0   address_line1      1600 non-null   object\n",
      " 1   address_line2      1600 non-null   object\n",
      " 2   city               1600 non-null   object\n",
      " 3   food_type          1600 non-null   object\n",
      " 4   food_type1         1600 non-null   object\n",
      " 5   location           1600 non-null   object\n",
      " 6   number_of_reviews  1600 non-null   object\n",
      " 7   opening_hour       1600 non-null   object\n",
      " 8   out_of             1600 non-null   object\n",
      " 9   restaurant_name    1600 non-null   object\n",
      " 10  review_score       1600 non-null   object\n",
      "dtypes: object(11)\n",
      "memory usage: 150.0+ KB\n"
     ]
    }
   ],
   "source": [
    "df.info()"
   ]
  },
  {
   "cell_type": "code",
   "execution_count": 24,
   "metadata": {},
   "outputs": [
    {
     "data": {
      "text/plain": [
       "Cafe                                    142\n",
       ", American                               38\n",
       ", Indian, Asian, Vegetarian Friendly     27\n",
       ", Indian                                 26\n",
       ", Cafe                                   25\n",
       "                                       ... \n",
       ", International, Contemporary             1\n",
       "Street Food                               1\n",
       ", Grill, Middle Eastern, Arabic           1\n",
       "Fast Food, Diner                          1\n",
       ", Healthy                                 1\n",
       "Name: food_type, Length: 695, dtype: int64"
      ]
     },
     "execution_count": 24,
     "metadata": {},
     "output_type": "execute_result"
    }
   ],
   "source": [
    "df.food_type.value_counts()\n"
   ]
  },
  {
   "cell_type": "code",
   "execution_count": 66,
   "metadata": {},
   "outputs": [],
   "source": [
    "df.loc[ df.food_type.str.contains(',') , \"food_type\"] = df['food_type'].str[1:]\n",
    "df['food_type'] = df['food_type'].str.strip()"
   ]
  },
  {
   "cell_type": "code",
   "execution_count": 26,
   "metadata": {},
   "outputs": [
    {
     "data": {
      "text/plain": [
       "674"
      ]
     },
     "execution_count": 26,
     "metadata": {},
     "output_type": "execute_result"
    }
   ],
   "source": [
    "df.food_type.nunique()\n"
   ]
  },
  {
   "cell_type": "code",
   "execution_count": 67,
   "metadata": {},
   "outputs": [],
   "source": [
    "df = df.reset_index(drop=True)\n",
    "\n"
   ]
  },
  {
   "cell_type": "code",
   "execution_count": 28,
   "metadata": {},
   "outputs": [
    {
     "data": {
      "text/plain": [
       "Index(['address_line1', 'address_line2', 'city', 'food_type', 'food_type1',\n",
       "       'location', 'number_of_reviews', 'opening_hour', 'out_of',\n",
       "       'restaurant_name', 'review_score'],\n",
       "      dtype='object')"
      ]
     },
     "execution_count": 28,
     "metadata": {},
     "output_type": "execute_result"
    }
   ],
   "source": [
    "df.columns"
   ]
  },
  {
   "cell_type": "code",
   "execution_count": 29,
   "metadata": {},
   "outputs": [
    {
     "data": {
      "text/plain": [
       "0     189\n",
       "1     139\n",
       "2      90\n",
       "3      74\n",
       "5      51\n",
       "4      49\n",
       "7      49\n",
       "8      43\n",
       "6      43\n",
       "9      38\n",
       "13     37\n",
       "15     32\n",
       "10     31\n",
       "14     29\n",
       "11     26\n",
       "12     25\n",
       "16     23\n",
       "19     21\n",
       "18     20\n",
       "25     20\n",
       "17     17\n",
       "28     16\n",
       "30     16\n",
       "22     15\n",
       "23     15\n",
       "31     14\n",
       "24     13\n",
       "20     13\n",
       "35     13\n",
       "26     12\n",
       "21     12\n",
       "48     12\n",
       "34     10\n",
       "40     10\n",
       "29     10\n",
       "27     10\n",
       "44      9\n",
       "36      9\n",
       "32      9\n",
       "41      8\n",
       "49      8\n",
       "38      8\n",
       "39      8\n",
       "43      8\n",
       "51      6\n",
       "61      6\n",
       "81      6\n",
       "62      6\n",
       "50      6\n",
       "59      5\n",
       "74      5\n",
       "57      5\n",
       "47      5\n",
       "42      5\n",
       "53      5\n",
       "68      5\n",
       "95      4\n",
       "37      4\n",
       "33      4\n",
       "Name: number_of_reviews, dtype: int64"
      ]
     },
     "execution_count": 29,
     "metadata": {},
     "output_type": "execute_result"
    }
   ],
   "source": [
    "df.number_of_reviews.value_counts().head(59)"
   ]
  },
  {
   "cell_type": "code",
   "execution_count": 30,
   "metadata": {},
   "outputs": [
    {
     "name": "stdout",
     "output_type": "stream",
     "text": [
      "<class 'pandas.core.frame.DataFrame'>\n",
      "RangeIndex: 1600 entries, 0 to 1599\n",
      "Data columns (total 11 columns):\n",
      " #   Column             Non-Null Count  Dtype \n",
      "---  ------             --------------  ----- \n",
      " 0   address_line1      1600 non-null   object\n",
      " 1   address_line2      1600 non-null   object\n",
      " 2   city               1600 non-null   object\n",
      " 3   food_type          1600 non-null   object\n",
      " 4   food_type1         1600 non-null   object\n",
      " 5   location           1600 non-null   object\n",
      " 6   number_of_reviews  1600 non-null   object\n",
      " 7   opening_hour       1600 non-null   object\n",
      " 8   out_of             1600 non-null   object\n",
      " 9   restaurant_name    1600 non-null   object\n",
      " 10  review_score       1600 non-null   object\n",
      "dtypes: object(11)\n",
      "memory usage: 137.6+ KB\n"
     ]
    }
   ],
   "source": [
    "df.info()"
   ]
  },
  {
   "cell_type": "code",
   "execution_count": 31,
   "metadata": {},
   "outputs": [
    {
     "data": {
      "text/plain": [
       "Riyadh              563\n",
       "Eastern_Province    530\n",
       "Jeddah              507\n",
       "Name: city, dtype: int64"
      ]
     },
     "execution_count": 31,
     "metadata": {},
     "output_type": "execute_result"
    }
   ],
   "source": [
    "df.city.value_counts()"
   ]
  },
  {
   "cell_type": "code",
   "execution_count": 32,
   "metadata": {},
   "outputs": [
    {
     "data": {
      "image/png": "[encoded data removed]",
      "text/plain": [
       "<Figure size 720x720 with 1 Axes>"
      ]
     },
     "metadata": {},
     "output_type": "display_data"
    }
   ],
   "source": [
    "plt.figure(figsize=(10,10))\n",
    "plt.pie(x=df['city'].value_counts(),labels=['Riyadh','Eastern Province','Jeddah'],autopct='%.2f%%',textprops={'fontsize': 17},explode=[0.05,0.05,0.05],)\n",
    "plt.title('City distribution',fontdict={'fontsize':20})\n",
    "plt.show()"
   ]
  },
  {
   "cell_type": "code",
   "execution_count": 33,
   "metadata": {},
   "outputs": [
    {
     "data": {
      "text/plain": [
       "Text(0.5, 1.0, 'categories distribution')"
      ]
     },
     "execution_count": 33,
     "metadata": {},
     "output_type": "execute_result"
    },
    {
     "data": {
      "image/png": "[encoded data removed]",
      "text/plain": [
       "<Figure size 1080x720 with 1 Axes>"
      ]
     },
     "metadata": {
      "needs_background": "light"
     },
     "output_type": "display_data"
    }
   ],
   "source": [
    "df['food_type1'].value_counts().head(15).plot(kind = 'barh', subplots = False, figsize = (15,10),color=['black'], alpha = .6,)\n",
    "\n",
    "plt.ylabel('categories',fontsize=12)\n",
    "plt.xlabel('Quantity',fontsize=12)\n",
    "#plt.xticks(rotation=45);\n",
    "plt.title('categories distribution',fontsize=16)"
   ]
  },
  {
   "cell_type": "code",
   "execution_count": 69,
   "metadata": {},
   "outputs": [
    {
     "data": {
      "image/png": "[encoded data removed]",
      "text/plain": [
       "<Figure size 720x360 with 1 Axes>"
      ]
     },
     "metadata": {
      "needs_background": "light"
     },
     "output_type": "display_data"
    }
   ],
   "source": [
    "df['review_scores'] = df.review_score.astype(float)\n",
    "top_Score = (df.groupby(['food_type1'], as_index=False))[['review_scores']].mean().sort_values(ascending=False,by='review_scores')\n",
    "plt.figure(figsize=[10,5])\n",
    "sns.barplot(x='food_type1',y='review_scores' ,data=top_Score.head(10), palette='crest')\n",
    "plt.title('top ten category based on score',fontsize=16)\n",
    "plt.xticks(rotation=45);"
   ]
  },
  {
   "cell_type": "code",
   "execution_count": 35,
   "metadata": {},
   "outputs": [],
   "source": [
    "df.to_csv(\"Data/clean_data.csv\")"
   ]
  },
  {
   "cell_type": "code",
   "execution_count": 36,
   "metadata": {},
   "outputs": [
    {
     "data": {
      "text/html": [
       "<div>\n",
       "<style scoped>\n",
       "    .dataframe tbody tr th:only-of-type {\n",
       "        vertical-align: middle;\n",
       "    }\n",
       "\n",
       "    .dataframe tbody tr th {\n",
       "        vertical-align: top;\n",
       "    }\n",
       "\n",
       "    .dataframe thead th {\n",
       "        text-align: right;\n",
       "    }\n",
       "</style>\n",
       "<table border=\"1\" class=\"dataframe\">\n",
       "  <thead>\n",
       "    <tr style=\"text-align: right;\">\n",
       "      <th></th>\n",
       "      <th>address_line1</th>\n",
       "      <th>address_line2</th>\n",
       "      <th>city</th>\n",
       "      <th>food_type</th>\n",
       "      <th>food_type1</th>\n",
       "      <th>location</th>\n",
       "      <th>number_of_reviews</th>\n",
       "      <th>opening_hour</th>\n",
       "      <th>out_of</th>\n",
       "      <th>restaurant_name</th>\n",
       "      <th>review_score</th>\n",
       "      <th>review_scores</th>\n",
       "    </tr>\n",
       "  </thead>\n",
       "  <tbody>\n",
       "    <tr>\n",
       "      <th>0</th>\n",
       "      <td>King Saud Road</td>\n",
       "      <td>Al Khobar 31952 Saudi Arabia</td>\n",
       "      <td>Eastern_Province</td>\n",
       "      <td>International, Vegan Options, Vegetarian Friendly</td>\n",
       "      <td>International</td>\n",
       "      <td>King Saud Road, Al Khobar 31952 Saudi Arabia</td>\n",
       "      <td>101</td>\n",
       "      <td>+ Add hours</td>\n",
       "      <td>1 of 29 International in Al Khobar</td>\n",
       "      <td>Kempinski Al Othman Hotel</td>\n",
       "      <td>5.0</td>\n",
       "      <td>5.0</td>\n",
       "    </tr>\n",
       "    <tr>\n",
       "      <th>1</th>\n",
       "      <td>Prince Musaed Street Dughaither Leisure Island</td>\n",
       "      <td>Al Khobar Saudi Arabia</td>\n",
       "      <td>Eastern_Province</td>\n",
       "      <td>Seafood, International, Mediterranean</td>\n",
       "      <td>Seafood</td>\n",
       "      <td>Prince Musaed Street Dughaither Leisure Island...</td>\n",
       "      <td>916</td>\n",
       "      <td>Closed Now:See all hours</td>\n",
       "      <td>1 of 20 Seafood in Al Khobar</td>\n",
       "      <td>Al-Sanbok Seafood Restaurant</td>\n",
       "      <td>4.5</td>\n",
       "      <td>4.5</td>\n",
       "    </tr>\n",
       "    <tr>\n",
       "      <th>2</th>\n",
       "      <td>Prince Musaid Street</td>\n",
       "      <td>34425 Al Khobar</td>\n",
       "      <td>Eastern_Province</td>\n",
       "      <td>Japanese, Sushi, Asian</td>\n",
       "      <td>Asian</td>\n",
       "      <td>Prince Musaid Street, 34425 Al Khobar, Al Khob...</td>\n",
       "      <td>59</td>\n",
       "      <td>+ Add hours</td>\n",
       "      <td>1 of 11 Japanese in Al Khobar</td>\n",
       "      <td>Taki Restaurant</td>\n",
       "      <td>5.0</td>\n",
       "      <td>5.0</td>\n",
       "    </tr>\n",
       "    <tr>\n",
       "      <th>3</th>\n",
       "      <td>King Saud Road Kempinski Al Othman Hotel</td>\n",
       "      <td>Al Khobar 31952 Saudi Arabia</td>\n",
       "      <td>Eastern_Province</td>\n",
       "      <td>Italian, Pizza, Romana</td>\n",
       "      <td>Italian</td>\n",
       "      <td>King Saud Road Kempinski Al Othman Hotel, Al K...</td>\n",
       "      <td>56</td>\n",
       "      <td>Closed Now:See all hours</td>\n",
       "      <td>1 of 31 Italian in Al Khobar</td>\n",
       "      <td>il Vero</td>\n",
       "      <td>5.0</td>\n",
       "      <td>5.0</td>\n",
       "    </tr>\n",
       "    <tr>\n",
       "      <th>4</th>\n",
       "      <td>Fouad Center _ Corniche Street</td>\n",
       "      <td>Al Khobar Saudi Arabia</td>\n",
       "      <td>Eastern_Province</td>\n",
       "      <td>American, Steakhouse, Vegetarian Friendly</td>\n",
       "      <td>American</td>\n",
       "      <td>Fouad Center _ Corniche Street, Al Khobar Saud...</td>\n",
       "      <td>331</td>\n",
       "      <td>+ Add hours</td>\n",
       "      <td>1 of 40 American in Al Khobar</td>\n",
       "      <td>Outback Steakhouse</td>\n",
       "      <td>4.0</td>\n",
       "      <td>4.0</td>\n",
       "    </tr>\n",
       "    <tr>\n",
       "      <th>...</th>\n",
       "      <td>...</td>\n",
       "      <td>...</td>\n",
       "      <td>...</td>\n",
       "      <td>...</td>\n",
       "      <td>...</td>\n",
       "      <td>...</td>\n",
       "      <td>...</td>\n",
       "      <td>...</td>\n",
       "      <td>...</td>\n",
       "      <td>...</td>\n",
       "      <td>...</td>\n",
       "      <td>...</td>\n",
       "    </tr>\n",
       "    <tr>\n",
       "      <th>1595</th>\n",
       "      <td>Al Qasar Street</td>\n",
       "      <td>Riyadh 13226 Saudi Arabia</td>\n",
       "      <td>Riyadh</td>\n",
       "      <td>ndian, Middle Eastern, Pakistani, Arabic</td>\n",
       "      <td>Arabic</td>\n",
       "      <td>Al Qasar Street, Riyadh 13226 Saudi Arabia</td>\n",
       "      <td>0</td>\n",
       "      <td>Open Now:See all hours</td>\n",
       "      <td>dont have</td>\n",
       "      <td>Usmania Restaurant</td>\n",
       "      <td>0</td>\n",
       "      <td>0.0</td>\n",
       "    </tr>\n",
       "    <tr>\n",
       "      <th>1596</th>\n",
       "      <td>Takhassusi Street Al Mohammadiyah</td>\n",
       "      <td>Riyadh 12362 Saudi Arabia</td>\n",
       "      <td>Riyadh</td>\n",
       "      <td>French, Pizza, Fast Food</td>\n",
       "      <td>European</td>\n",
       "      <td>Takhassusi Street Al Mohammadiyah, Riyadh 1236...</td>\n",
       "      <td>0</td>\n",
       "      <td>+ Add hours</td>\n",
       "      <td>dont have</td>\n",
       "      <td>May Snack</td>\n",
       "      <td>0</td>\n",
       "      <td>0.0</td>\n",
       "    </tr>\n",
       "    <tr>\n",
       "      <th>1597</th>\n",
       "      <td>Anas Ibn Malik Rd</td>\n",
       "      <td>Riyadh 13525 Saudi Arabia</td>\n",
       "      <td>Riyadh</td>\n",
       "      <td>Healthy</td>\n",
       "      <td>Healthy</td>\n",
       "      <td>Anas Ibn Malik Rd, Riyadh 13525 Saudi Arabia</td>\n",
       "      <td>0</td>\n",
       "      <td>Opens in 18 min:See all hours</td>\n",
       "      <td>dont have</td>\n",
       "      <td>My Calorie</td>\n",
       "      <td>0</td>\n",
       "      <td>0.0</td>\n",
       "    </tr>\n",
       "    <tr>\n",
       "      <th>1598</th>\n",
       "      <td>King Saud Road</td>\n",
       "      <td>Opp. Banque Saudi Fransi.</td>\n",
       "      <td>Riyadh</td>\n",
       "      <td>Chinese, Indian</td>\n",
       "      <td>Asian</td>\n",
       "      <td>King Saud Road, Opp. Banque Saudi Fransi., Riy...</td>\n",
       "      <td>0</td>\n",
       "      <td>+ Add hours</td>\n",
       "      <td>dont have</td>\n",
       "      <td>Garden Restaurant</td>\n",
       "      <td>0</td>\n",
       "      <td>0.0</td>\n",
       "    </tr>\n",
       "    <tr>\n",
       "      <th>1599</th>\n",
       "      <td>Takhassusi</td>\n",
       "      <td>Riyadh 11321 Saudi Arabia</td>\n",
       "      <td>Riyadh</td>\n",
       "      <td>Italian, Cafe</td>\n",
       "      <td>Italian</td>\n",
       "      <td>Takhassusi, Riyadh 11321 Saudi Arabia</td>\n",
       "      <td>0</td>\n",
       "      <td>Open Now:See all hours</td>\n",
       "      <td>dont have</td>\n",
       "      <td>Montreux</td>\n",
       "      <td>0</td>\n",
       "      <td>0.0</td>\n",
       "    </tr>\n",
       "  </tbody>\n",
       "</table>\n",
       "<p>1600 rows × 12 columns</p>\n",
       "</div>"
      ],
      "text/plain": [
       "                                       address_line1  \\\n",
       "0                                     King Saud Road   \n",
       "1     Prince Musaed Street Dughaither Leisure Island   \n",
       "2                               Prince Musaid Street   \n",
       "3           King Saud Road Kempinski Al Othman Hotel   \n",
       "4                     Fouad Center _ Corniche Street   \n",
       "...                                              ...   \n",
       "1595                                 Al Qasar Street   \n",
       "1596               Takhassusi Street Al Mohammadiyah   \n",
       "1597                               Anas Ibn Malik Rd   \n",
       "1598                                  King Saud Road   \n",
       "1599                                      Takhassusi   \n",
       "\n",
       "                      address_line2              city  \\\n",
       "0      Al Khobar 31952 Saudi Arabia  Eastern_Province   \n",
       "1            Al Khobar Saudi Arabia  Eastern_Province   \n",
       "2                   34425 Al Khobar  Eastern_Province   \n",
       "3      Al Khobar 31952 Saudi Arabia  Eastern_Province   \n",
       "4            Al Khobar Saudi Arabia  Eastern_Province   \n",
       "...                             ...               ...   \n",
       "1595      Riyadh 13226 Saudi Arabia            Riyadh   \n",
       "1596      Riyadh 12362 Saudi Arabia            Riyadh   \n",
       "1597      Riyadh 13525 Saudi Arabia            Riyadh   \n",
       "1598      Opp. Banque Saudi Fransi.            Riyadh   \n",
       "1599      Riyadh 11321 Saudi Arabia            Riyadh   \n",
       "\n",
       "                                              food_type     food_type1  \\\n",
       "0     International, Vegan Options, Vegetarian Friendly  International   \n",
       "1                 Seafood, International, Mediterranean        Seafood   \n",
       "2                                Japanese, Sushi, Asian          Asian   \n",
       "3                                Italian, Pizza, Romana        Italian   \n",
       "4             American, Steakhouse, Vegetarian Friendly       American   \n",
       "...                                                 ...            ...   \n",
       "1595           ndian, Middle Eastern, Pakistani, Arabic         Arabic   \n",
       "1596                           French, Pizza, Fast Food       European   \n",
       "1597                                            Healthy        Healthy   \n",
       "1598                                    Chinese, Indian          Asian   \n",
       "1599                                      Italian, Cafe        Italian   \n",
       "\n",
       "                                               location number_of_reviews  \\\n",
       "0          King Saud Road, Al Khobar 31952 Saudi Arabia               101   \n",
       "1     Prince Musaed Street Dughaither Leisure Island...               916   \n",
       "2     Prince Musaid Street, 34425 Al Khobar, Al Khob...                59   \n",
       "3     King Saud Road Kempinski Al Othman Hotel, Al K...                56   \n",
       "4     Fouad Center _ Corniche Street, Al Khobar Saud...               331   \n",
       "...                                                 ...               ...   \n",
       "1595         Al Qasar Street, Riyadh 13226 Saudi Arabia                 0   \n",
       "1596  Takhassusi Street Al Mohammadiyah, Riyadh 1236...                 0   \n",
       "1597       Anas Ibn Malik Rd, Riyadh 13525 Saudi Arabia                 0   \n",
       "1598  King Saud Road, Opp. Banque Saudi Fransi., Riy...                 0   \n",
       "1599              Takhassusi, Riyadh 11321 Saudi Arabia                 0   \n",
       "\n",
       "                       opening_hour                              out_of  \\\n",
       "0                       + Add hours  1 of 29 International in Al Khobar   \n",
       "1          Closed Now:See all hours        1 of 20 Seafood in Al Khobar   \n",
       "2                       + Add hours       1 of 11 Japanese in Al Khobar   \n",
       "3          Closed Now:See all hours        1 of 31 Italian in Al Khobar   \n",
       "4                       + Add hours       1 of 40 American in Al Khobar   \n",
       "...                             ...                                 ...   \n",
       "1595         Open Now:See all hours                           dont have   \n",
       "1596                    + Add hours                           dont have   \n",
       "1597  Opens in 18 min:See all hours                           dont have   \n",
       "1598                    + Add hours                           dont have   \n",
       "1599         Open Now:See all hours                           dont have   \n",
       "\n",
       "                   restaurant_name review_score  review_scores  \n",
       "0        Kempinski Al Othman Hotel         5.0             5.0  \n",
       "1     Al-Sanbok Seafood Restaurant         4.5             4.5  \n",
       "2                  Taki Restaurant         5.0             5.0  \n",
       "3                          il Vero         5.0             5.0  \n",
       "4               Outback Steakhouse         4.0             4.0  \n",
       "...                            ...          ...            ...  \n",
       "1595            Usmania Restaurant            0            0.0  \n",
       "1596                     May Snack            0            0.0  \n",
       "1597                    My Calorie            0            0.0  \n",
       "1598             Garden Restaurant            0            0.0  \n",
       "1599                      Montreux            0            0.0  \n",
       "\n",
       "[1600 rows x 12 columns]"
      ]
     },
     "execution_count": 36,
     "metadata": {},
     "output_type": "execute_result"
    }
   ],
   "source": [
    "df"
   ]
  },
  {
   "cell_type": "code",
   "execution_count": 37,
   "metadata": {},
   "outputs": [],
   "source": [
    "# helper function to get the indices\n",
    "def get_index(restaurant_name):\n",
    "    return df[df.restaurant_name == restaurant_name].index[0]\n",
    "\n",
    "def get_title_from_index(index):\n",
    "    return df[df.index == index][\"restaurant_name\"].values[0]\n",
    "\n",
    "#def get_price(index):\n",
    "#    return df[df.index == index][\"price\"].values[0]\n",
    "\n",
    "\n",
    "#step1: select features \n",
    "features_df = ['review_score','out_of', 'city', 'food_type', 'food_type1','location', 'number_of_reviews', 'opening_hour']\n",
    "\n",
    "for feature in features_df:\n",
    "    df[feature] = df[feature].fillna('')\n",
    "\n",
    "#step2: combine features \n",
    "def comine_features(row):\n",
    "    try:\n",
    "        return row['review_score']+ \" \"+row['out_of'] + \" \"+row['city']+\" \"+row['food_type'] + \" \"+row['food_type1'] + \" \"+row['location']+\" \"+row['number_of_reviews']+\" \"+row['opening_hour']\n",
    "    except:\n",
    "        print(\"Error:\", row)\n",
    "\n",
    "df['combined_features'] = df.apply(comine_features, axis=1)\n",
    "\n",
    "#step3: create recommendation function\n",
    "def cv_recommend(x):\n",
    "\n",
    "#step4: creat count matrix \n",
    "    cv = CountVectorizer()\n",
    "    count_matrix = cv.fit_transform(df['combined_features'])\n",
    "\n",
    "#step5: cosine similarity \n",
    "    cosine_sim = cosine_similarity(count_matrix)\n",
    "\n",
    "#step6: getting the index of the recommended restaurant \n",
    "    rest_index = get_index(x)\n",
    "    similar_rest = list(enumerate(cosine_sim[rest_index]))\n",
    "    sorted_similar = sorted(similar_rest,key=lambda x:x[1],reverse=True)[1:]\n",
    "\n",
    "    i=0\n",
    "    print(\"Top 5 similar rest to \"+x+\" are:\\n\")\n",
    "    for element in sorted_similar:\n",
    "        print( get_title_from_index(element[0]), f\"  >>>>>>>   score: \", format(sorted_similar[i][1], \".4f\"))\n",
    "        i=i+1\n",
    "        if i>=5:\n",
    "            break\n",
    "\n",
    "def tfidf_recommend(x):\n",
    "     \n",
    "    #Define a TF-IDF Vectorizer Object. Remove all english stopwords\n",
    "    #Construct the required TF-IDF matrix by applying the fit_transform method on the overview feature\n",
    "    tfidf = TfidfVectorizer(stop_words='english')\n",
    "    tfidf_matrix = tfidf.fit_transform(df['combined_features'])\n",
    "\n",
    "\n",
    "    cosine_sim = cosine_similarity(tfidf_matrix)\n",
    "\n",
    "\n",
    "    rest_index = get_index(x)\n",
    "    similar_rest = list(enumerate(cosine_sim[rest_index]))\n",
    "    sorted_similar = sorted(similar_rest,key=lambda x:x[1],reverse=True)[1:]\n",
    "\n",
    "    i=0\n",
    "    print(\"Top 5 similar rest to \"+x+\" are:\\n\")\n",
    "    for element in sorted_similar:\n",
    "        print( get_title_from_index(element[0]), f\"  >>>>>>>  score: \", format(sorted_similar[i][1], \".4f\"))\n",
    "        i=i+1\n",
    "        if i>=5:\n",
    "            break\n"
   ]
  },
  {
   "cell_type": "code",
   "execution_count": 38,
   "metadata": {},
   "outputs": [
    {
     "name": "stdout",
     "output_type": "stream",
     "text": [
      "Top 5 similar rest to Taki Restaurant are:\n",
      "\n",
      "Orient   >>>>>>>   score:  0.9250\n",
      "Takara   >>>>>>>   score:  0.8854\n",
      "Kyoto Japanese Restaurant   >>>>>>>   score:  0.8808\n",
      "Masami Sushi   >>>>>>>   score:  0.8714\n",
      "Kodo   >>>>>>>   score:  0.8552\n"
     ]
    }
   ],
   "source": [
    "cv_recommend(\"Taki Restaurant\")"
   ]
  },
  {
   "cell_type": "code",
   "execution_count": 39,
   "metadata": {},
   "outputs": [
    {
     "name": "stdout",
     "output_type": "stream",
     "text": [
      "Top 5 similar rest to Taki Restaurant are:\n",
      "\n",
      "Century Cuisine   >>>>>>>  score:  0.7347\n",
      "Orient   >>>>>>>  score:  0.6753\n",
      "Kyoto Japanese Restaurant   >>>>>>>  score:  0.6593\n",
      "Masami Sushi   >>>>>>>  score:  0.6268\n",
      "Takara   >>>>>>>  score:  0.6266\n"
     ]
    }
   ],
   "source": [
    "tfidf_recommend(\"Taki Restaurant\")"
   ]
  }
 ],
 "metadata": {
  "kernelspec": {
   "display_name": "base",
   "language": "python",
   "name": "python3"
  },
  "language_info": {
   "codemirror_mode": {
    "name": "ipython",
    "version": 3
   },
   "file_extension": ".py",
   "mimetype": "text/x-python",
   "name": "python",
   "nbconvert_exporter": "python",
   "pygments_lexer": "ipython3",
   "version": "3.8.10"
  },
  "orig_nbformat": 4,
  "vscode": {
   "interpreter": {
    "hash": "1a6e773fc7f7b2b8b91c25b211311bf7ed1bb15ad853df008c3aead80ddb88d4"
   }
  }
 },
 "nbformat": 4,
 "nbformat_minor": 2
}
